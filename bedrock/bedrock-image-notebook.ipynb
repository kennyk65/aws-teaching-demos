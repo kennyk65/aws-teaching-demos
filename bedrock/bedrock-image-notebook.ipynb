{
 "cells": [
  {
   "cell_type": "code",
   "execution_count": 1,
   "metadata": {},
   "outputs": [],
   "source": [
    "import boto3, json, random, base64, os\n",
    "\n",
    "# See https://www.youtube.com/watch?v=kwkaBrK_-Bs\n",
    "\n",
    "client = boto3.client('bedrock-runtime')\n",
    "ModelId=\"amazon.titan-image-generator-v1\"\n",
    "\n",
    "prompt = \"picture of very happy golden retriever\"\n",
    "\n",
    "# Note that the input for the body depends on the selected model\n",
    "body = { \n",
    "  \"textToImageParams\": {\n",
    "    \"text\": f\"{prompt}\"\n",
    "    },\n",
    "  \"taskType\": \"TEXT_IMAGE\",\n",
    "  \"imageGenerationConfig\":{\n",
    "    \"cfgScale\":8,\n",
    "    \"seed\":0,\n",
    "    \"quality\":\"standard\",\n",
    "    \"width\":1024,\n",
    "    \"height\":1024,\n",
    "    \"numberOfImages\":1\n",
    "  }\n",
    "}\n",
    "\n",
    "    \n",
    "# There is also a streaming option\n",
    "response = client.invoke_model(\n",
    "  modelId=ModelId,\n",
    "  body=json.dumps(body)  \n",
    "  )\n",
    "\n",
    "print(response)\n",
    "response_body = json.loads(response.get(\"body\").read())\n",
    "\n",
    "base64_image = response_body.get(\"images\")[0]   # get first image\n",
    "base64_bytes = base64_image.encode('ascii')     # convert to ascii bytes\n",
    "image_bytes = base64.b64decode(base64_bytes)    # decode these bytes into binary image data bytes.\n",
    "\n",
    "\n",
    "# write the output:\n",
    "output_dir = \"output\"\n",
    "os.makedirs(output_dir, exist_ok=True)\n",
    "file_name = \"output/generated.png\"\n",
    "with open(file_name, \"wb\") as f:\n",
    "    f.write(image_bytes)\n"
   ]
  },
  {
   "cell_type": "markdown",
   "metadata": {},
   "source": []
  },
  {
   "cell_type": "code",
   "execution_count": null,
   "metadata": {},
   "outputs": [],
   "source": [
    "\n"
   ]
  }
 ],
 "metadata": {
  "kernelspec": {
   "display_name": "Python 3",
   "language": "python",
   "name": "python3"
  },
  "language_info": {
   "codemirror_mode": {
    "name": "ipython",
    "version": 3
   },
   "file_extension": ".py",
   "mimetype": "text/x-python",
   "name": "python",
   "nbconvert_exporter": "python",
   "pygments_lexer": "ipython3",
   "version": "3.11.7"
  }
 },
 "nbformat": 4,
 "nbformat_minor": 2
}
