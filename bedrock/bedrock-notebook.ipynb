{
 "cells": [
  {
   "cell_type": "code",
   "execution_count": 1,
   "metadata": {},
   "outputs": [
    {
     "data": {
      "text/plain": [
       "'\\nHere are the top 3 recommended European vacation destinations for extroverts:\\n\\n1. Ibiza, Spain\\n2. Amsterdam, Netherlands\\n3. Berlin, Germany'"
      ]
     },
     "execution_count": 1,
     "metadata": {},
     "output_type": "execute_result"
    }
   ],
   "source": [
    "import boto3, json\n",
    "\n",
    "client = boto3.client('bedrock-runtime')\n",
    "ModelId=\"amazon.titan-text-lite-v1\"\n",
    "\n",
    "prompt = \"What are the top 3 recommended European vacation destinations for extroverts?\"\n",
    "\n",
    "# Note that the input for the body depends on the selected model\n",
    "body = {\n",
    "    \"inputText\": f\"{prompt}\",\n",
    "    \"textGenerationConfig\":\n",
    "    {\"temperature\": 0, \"topP\": 0.9, \"maxTokenCount\": 512, \"stopSequences\": [] }\n",
    "    }\n",
    "\n",
    "\n",
    "# There is also a streaming option\n",
    "response = client.invoke_model(\n",
    "  contentType=\"application/json\",\n",
    "  accept=\"*/*\",\n",
    "  modelId=ModelId,\n",
    "  body=json.dumps(body)  \n",
    "  )\n",
    "\n",
    "completion = json.loads(response.get('body').read()).get('results')[0].get('outputText')\n",
    "completion\n",
    "\n"
   ]
  },
  {
   "cell_type": "markdown",
   "metadata": {},
   "source": []
  },
  {
   "cell_type": "code",
   "execution_count": null,
   "metadata": {},
   "outputs": [],
   "source": [
    "\n"
   ]
  }
 ],
 "metadata": {
  "kernelspec": {
   "display_name": "Python 3",
   "language": "python",
   "name": "python3"
  },
  "language_info": {
   "codemirror_mode": {
    "name": "ipython",
    "version": 3
   },
   "file_extension": ".py",
   "mimetype": "text/x-python",
   "name": "python",
   "nbconvert_exporter": "python",
   "pygments_lexer": "ipython3",
   "version": "3.11.7"
  }
 },
 "nbformat": 4,
 "nbformat_minor": 2
}
